{
 "cells": [
  {
   "cell_type": "markdown",
   "metadata": {},
   "source": [
    "## New York City Department of Education Data Scrape\n",
    "\n",
    "Files to pull:\n",
    "\n",
    "- NYC School Survey Citywide Reports (All public schools not including D75) \n",
    "    - 2017 Parent: http://schools.nyc.gov/documents/misc/2017%20Public%20Data%20File_%20Parent.xlsx\n",
    "    - 2017 Teacher: http://schools.nyc.gov/documents/misc/2017%20Public%20Data%20File_Teacher.xlsx\n",
    "    - 2017 Students: http://schools.nyc.gov/documents/misc/2017%20Public%20Data%20File_Student.xlsx\n",
    "    - 2016 http://schools.nyc.gov/documents/misc/Public_Data_File_Final.xlsx\n",
    "    - 2015 http://schools.nyc.gov/documents/misc/Public%20Data%20File.xlsx\n",
    "    - 2014 http://schools.nyc.gov/documents/misc/2014%20Public%20Data%20File%20SUPPRESSED.xlsx\n",
    "    - 2013 http://schools.nyc.gov/NR/rdonlyres/0AE3D537-A745-41B5-9080-AA6397D04F19/0/2013NYCSchoolSurveyPublicMasterfile.xlsx\n",
    "    - 2012 http://schools.nyc.gov/NR/rdonlyres/A9998E0C-E809-4F3D-81EA-EC5DF1F5D810/0/2012_Survey_Masterfile__CS_final.xlsx\n",
    "    - 2011 http://schools.nyc.gov/NR/rdonlyres/11FE72CE-1313-4C82-88B1-C9FA53BE6842/0/2011datafilesonline.zip\n",
    "    - 2010 http://schools.nyc.gov/NR/rdonlyres/4C258C57-05CC-4A69-8E99-C3EA4A5E61D9/0/2010SurveyData.zip\n",
    "    - 2009 http://schools.nyc.gov/NR/rdonlyres/623678D2-94D6-45FC-B970-BF1DC1660940/0/2009SurveyData.zip\n",
    "    - 2008 http://schools.nyc.gov/NR/rdonlyres/EB281589-6F2B-42E5-A0AD-13C8CE2E8CDD/0/2008excel.zip\n",
    "    - 2007 http://schools.nyc.gov/NR/rdonlyres/3C9B6404-D3C3-49D7-8FA8-36AC191BC328/26549/surveyaccess_1011092.xls\n",
    "\n",
    "- Enrollment: http://schools.nyc.gov/NR/rdonlyres/77954FB0-FD24-476B-AB81-3E9BBE8655D9/213559/DemographicSnapshot201213to201617Public_FINAL1.xlsx\n",
    "- New York State Common Core English Language Arts (ELA) and Mathematics Tests Grades 3-8; \n",
    "    - 2013-2017 ELA\n",
    "        - Citywide http://schools.nyc.gov/NR/rdonlyres/C7E210CA-F686-4805-BEA6-EDD91F76E58B/216275/CitywideELAResults20132017Public.xlsx\n",
    "        - Borough http://schools.nyc.gov/NR/rdonlyres/C7E210CA-F686-4805-BEA6-EDD91F76E58B/216278/BoroughELAResults20132017Public.xlsx\n",
    "        - District http://schools.nyc.gov/NR/rdonlyres/C7E210CA-F686-4805-BEA6-EDD91F76E58B/216279/DistrictELAResults20132017Public.xlsx\n",
    "        - School http://schools.nyc.gov/documents/rpsg/School%20ELA%20Results%202013-2017%20(Public).xlsx\n",
    "    - 2013-2017 Math\n",
    "        - Citywide http://schools.nyc.gov/NR/rdonlyres/C7E210CA-F686-4805-BEA6-EDD91F76E58B/216280/CitywideMathResults20132017Public.xlsx\n",
    "        - Borough http://schools.nyc.gov/NR/rdonlyres/C7E210CA-F686-4805-BEA6-EDD91F76E58B/216284/BoroughMathResults20132017Public1.xlsx\n",
    "        - District http://schools.nyc.gov/NR/rdonlyres/C7E210CA-F686-4805-BEA6-EDD91F76E58B/216282/DistrictMathResults20132017Public.xlsx\n",
    "        - School http://schools.nyc.gov/documents/rpsg/School%20Math%20Results%202013-2017%20(Public).xlsx\n",
    "    - 2006-2012 ELA\n",
    "        - Citywide http://schools.nyc.gov/NR/rdonlyres/CB5360AE-D4DA-45FC-A151-A20E62C28778/0/CitywideELAResults20062012Public.xlsx\n",
    "        - Borough http://schools.nyc.gov/NR/rdonlyres/B82F9971-6533-4355-B3F0-19219B74453F/0/BoroughELAResults20062012Public.xlsx\n",
    "        - District http://schools.nyc.gov/NR/rdonlyres/D8B559C6-A588-44B6-AECE-1108BE52BE9F/0/DistrictELAResults20062012Public.xlsx\n",
    "        - School http://schools.nyc.gov/NR/rdonlyres/66E8CC55-51E7-4DE5-8C5C-08C588701A1E/0/SchoolELAResults20062012Public.xlsx\n",
    "    - 2006-2012 Math\n",
    "        - Citywide http://schools.nyc.gov/NR/rdonlyres/7C17840D-BB62-41C9-919D-AACABAA92E04/0/CitywideMathResults20062012Public.xlsx\n",
    "        - Borough http://schools.nyc.gov/NR/rdonlyres/9EE3AC39-71D5-4619-9F99-A850842F68DE/0/BoroughMathResults20062012Public.xlsx\n",
    "        - District http://schools.nyc.gov/NR/rdonlyres/3E439D63-A14E-4B6E-B019-B634A8915D71/0/DistrictMathResults20062012Public.xlsx\n",
    "        - School http://schools.nyc.gov/NR/rdonlyres/A77DF9C5-BD62-4171-9995-4EB41E7E4067/0/SchoolMathResults20062012Public.xlsx\n",
    "    \n",
    "- Graduation Results / Cohorts of 2001 through 2012 (Classes of 2005 through 2016)\n",
    "    - Citywide\n",
    "    - Borough\n",
    "    - District\n",
    "    - School\n",
    "\n",
    "- School Quality Reports\n",
    "\n",
    "- Progress Reports\n",
    "\n",
    "SED Report Card: https://data.nysed.gov/downloads.php\n",
    "    - SY16 https://data.nysed.gov/files/reportcards/15-16/SRC2016.zip\n",
    "\n",
    "Assessments\n",
    "    - 2017\n",
    "    - 2016\n",
    "    - 2015\n",
    "    - 2014\n",
    "    - 2013\n",
    "    - 2012\n",
    "    - 2011\n",
    "    - 2010\n",
    "    - 2009\n",
    "    - 2008\n",
    "    - 2007\n",
    "    - 2006"
   ]
  },
  {
   "cell_type": "code",
   "execution_count": 34,
   "metadata": {
    "collapsed": true
   },
   "outputs": [],
   "source": [
    "import requests\n",
    "from openpyxl import load_workbook\n",
    "import pandas as pd \n",
    "import os"
   ]
  },
  {
   "cell_type": "markdown",
   "metadata": {},
   "source": [
    "### Links"
   ]
  },
  {
   "cell_type": "code",
   "execution_count": 8,
   "metadata": {
    "collapsed": true
   },
   "outputs": [],
   "source": [
    "#Annual Enrollment\n",
    "#Source: http://schools.nyc.gov/Accountability/data/default.htm\n",
    "AuditedRegister_20122016 = \"http://schools.nyc.gov/NR/rdonlyres/46093164-D8AA-40DD-A400-8F80CEBC8DD5/0/DemographicSnapshot201112to201516Public_FINAL.xlsx\""
   ]
  },
  {
   "cell_type": "code",
   "execution_count": 14,
   "metadata": {
    "collapsed": false
   },
   "outputs": [],
   "source": [
    "dls = AuditedRegister_20122016\n",
    "resp = requests.get(dls)\n",
    "fileName = \"AuditedRegister_20122016.xlsx\"\n",
    "\n",
    "output = open(fileName, 'wb')\n",
    "output.write(resp.content)\n",
    "output.close()"
   ]
  },
  {
   "cell_type": "code",
   "execution_count": 32,
   "metadata": {
    "collapsed": false
   },
   "outputs": [
    {
     "name": "stdout",
     "output_type": "stream",
     "text": [
      "[u'Citywide', u'Borough', u'District', u'School', u'Full Day Pre-K for All', u'NOTES']\n"
     ]
    }
   ],
   "source": [
    "wb = load_workbook(fileName)\n",
    "print wb.get_sheet_names()"
   ]
  },
  {
   "cell_type": "code",
   "execution_count": 47,
   "metadata": {
    "collapsed": false
   },
   "outputs": [],
   "source": [
    "path = \"//52CCIFS00/Users$/floza/My Documents/OSFEP/Data Scrape/\"\n",
    "x1 = pd.ExcelFile(path + fileName)"
   ]
  },
  {
   "cell_type": "code",
   "execution_count": 48,
   "metadata": {
    "collapsed": false
   },
   "outputs": [],
   "source": [
    "AuditedRegister_20122016_Citywide = x1.parse(\"Citywide\")"
   ]
  },
  {
   "cell_type": "code",
   "execution_count": 51,
   "metadata": {
    "collapsed": false
   },
   "outputs": [],
   "source": [
    "AuditedRegister_20122016_Borough = x1.parse(\"Borough\")\n",
    "AuditedRegister_20122016_District = x1.parse(\"District\")\n",
    "AuditedRegister_20122016_School = x1.parse(\"School\")"
   ]
  },
  {
   "cell_type": "code",
   "execution_count": 52,
   "metadata": {
    "collapsed": false
   },
   "outputs": [
    {
     "data": {
      "text/html": [
       "<div>\n",
       "<table border=\"1\" class=\"dataframe\">\n",
       "  <thead>\n",
       "    <tr style=\"text-align: right;\">\n",
       "      <th></th>\n",
       "      <th>DBN</th>\n",
       "      <th>School Name</th>\n",
       "      <th>Year</th>\n",
       "      <th>Total Enrollment</th>\n",
       "      <th>Grade PK (Half Day &amp; Full Day)</th>\n",
       "      <th>Grade K</th>\n",
       "      <th>Grade 1</th>\n",
       "      <th>Grade 2</th>\n",
       "      <th>Grade 3</th>\n",
       "      <th>Grade 4</th>\n",
       "      <th>...</th>\n",
       "      <th># Other</th>\n",
       "      <th>% Other</th>\n",
       "      <th># White</th>\n",
       "      <th>% White</th>\n",
       "      <th># Students with Disabilities</th>\n",
       "      <th>% Students with Disabilities</th>\n",
       "      <th># English Language Learners</th>\n",
       "      <th>% English Language Learners</th>\n",
       "      <th># Poverty</th>\n",
       "      <th>% Poverty</th>\n",
       "    </tr>\n",
       "  </thead>\n",
       "  <tbody>\n",
       "    <tr>\n",
       "      <th>0</th>\n",
       "      <td>01M015</td>\n",
       "      <td>P.S. 015 Roberto Clemente</td>\n",
       "      <td>2011-12</td>\n",
       "      <td>189</td>\n",
       "      <td>13</td>\n",
       "      <td>31</td>\n",
       "      <td>35</td>\n",
       "      <td>28</td>\n",
       "      <td>25</td>\n",
       "      <td>28</td>\n",
       "      <td>...</td>\n",
       "      <td>1</td>\n",
       "      <td>0.005291</td>\n",
       "      <td>4</td>\n",
       "      <td>0.021164</td>\n",
       "      <td>52</td>\n",
       "      <td>0.275132</td>\n",
       "      <td>22</td>\n",
       "      <td>0.116402</td>\n",
       "      <td>189</td>\n",
       "      <td>1.0</td>\n",
       "    </tr>\n",
       "    <tr>\n",
       "      <th>1</th>\n",
       "      <td>01M015</td>\n",
       "      <td>P.S. 015 Roberto Clemente</td>\n",
       "      <td>2012-13</td>\n",
       "      <td>177</td>\n",
       "      <td>18</td>\n",
       "      <td>38</td>\n",
       "      <td>26</td>\n",
       "      <td>22</td>\n",
       "      <td>26</td>\n",
       "      <td>23</td>\n",
       "      <td>...</td>\n",
       "      <td>3</td>\n",
       "      <td>0.016949</td>\n",
       "      <td>3</td>\n",
       "      <td>0.016949</td>\n",
       "      <td>55</td>\n",
       "      <td>0.310734</td>\n",
       "      <td>21</td>\n",
       "      <td>0.118644</td>\n",
       "      <td>177</td>\n",
       "      <td>1.0</td>\n",
       "    </tr>\n",
       "    <tr>\n",
       "      <th>2</th>\n",
       "      <td>01M015</td>\n",
       "      <td>P.S. 015 Roberto Clemente</td>\n",
       "      <td>2013-14</td>\n",
       "      <td>190</td>\n",
       "      <td>26</td>\n",
       "      <td>39</td>\n",
       "      <td>39</td>\n",
       "      <td>21</td>\n",
       "      <td>16</td>\n",
       "      <td>26</td>\n",
       "      <td>...</td>\n",
       "      <td>2</td>\n",
       "      <td>0.010526</td>\n",
       "      <td>3</td>\n",
       "      <td>0.015789</td>\n",
       "      <td>65</td>\n",
       "      <td>0.342105</td>\n",
       "      <td>19</td>\n",
       "      <td>0.100000</td>\n",
       "      <td>190</td>\n",
       "      <td>1.0</td>\n",
       "    </tr>\n",
       "    <tr>\n",
       "      <th>3</th>\n",
       "      <td>01M015</td>\n",
       "      <td>P.S. 015 Roberto Clemente</td>\n",
       "      <td>2014-15</td>\n",
       "      <td>183</td>\n",
       "      <td>18</td>\n",
       "      <td>27</td>\n",
       "      <td>47</td>\n",
       "      <td>31</td>\n",
       "      <td>19</td>\n",
       "      <td>17</td>\n",
       "      <td>...</td>\n",
       "      <td>1</td>\n",
       "      <td>0.005464</td>\n",
       "      <td>2</td>\n",
       "      <td>0.010929</td>\n",
       "      <td>64</td>\n",
       "      <td>0.349727</td>\n",
       "      <td>17</td>\n",
       "      <td>0.092896</td>\n",
       "      <td>183</td>\n",
       "      <td>1.0</td>\n",
       "    </tr>\n",
       "    <tr>\n",
       "      <th>4</th>\n",
       "      <td>01M015</td>\n",
       "      <td>P.S. 015 Roberto Clemente</td>\n",
       "      <td>2015-16</td>\n",
       "      <td>176</td>\n",
       "      <td>14</td>\n",
       "      <td>32</td>\n",
       "      <td>33</td>\n",
       "      <td>39</td>\n",
       "      <td>23</td>\n",
       "      <td>17</td>\n",
       "      <td>...</td>\n",
       "      <td>3</td>\n",
       "      <td>0.017045</td>\n",
       "      <td>2</td>\n",
       "      <td>0.011364</td>\n",
       "      <td>57</td>\n",
       "      <td>0.323864</td>\n",
       "      <td>16</td>\n",
       "      <td>0.090909</td>\n",
       "      <td>176</td>\n",
       "      <td>1.0</td>\n",
       "    </tr>\n",
       "  </tbody>\n",
       "</table>\n",
       "<p>5 rows × 38 columns</p>\n",
       "</div>"
      ],
      "text/plain": [
       "      DBN                School Name     Year  Total Enrollment  \\\n",
       "0  01M015  P.S. 015 Roberto Clemente  2011-12               189   \n",
       "1  01M015  P.S. 015 Roberto Clemente  2012-13               177   \n",
       "2  01M015  P.S. 015 Roberto Clemente  2013-14               190   \n",
       "3  01M015  P.S. 015 Roberto Clemente  2014-15               183   \n",
       "4  01M015  P.S. 015 Roberto Clemente  2015-16               176   \n",
       "\n",
       "   Grade PK (Half Day & Full Day)  Grade K  Grade 1  Grade 2  Grade 3  \\\n",
       "0                              13       31       35       28       25   \n",
       "1                              18       38       26       22       26   \n",
       "2                              26       39       39       21       16   \n",
       "3                              18       27       47       31       19   \n",
       "4                              14       32       33       39       23   \n",
       "\n",
       "   Grade 4    ...      # Other   % Other  # White   % White  \\\n",
       "0       28    ...            1  0.005291        4  0.021164   \n",
       "1       23    ...            3  0.016949        3  0.016949   \n",
       "2       26    ...            2  0.010526        3  0.015789   \n",
       "3       17    ...            1  0.005464        2  0.010929   \n",
       "4       17    ...            3  0.017045        2  0.011364   \n",
       "\n",
       "   # Students with Disabilities  % Students with Disabilities  \\\n",
       "0                            52                      0.275132   \n",
       "1                            55                      0.310734   \n",
       "2                            65                      0.342105   \n",
       "3                            64                      0.349727   \n",
       "4                            57                      0.323864   \n",
       "\n",
       "   # English Language Learners  % English Language Learners  # Poverty  \\\n",
       "0                           22                     0.116402        189   \n",
       "1                           21                     0.118644        177   \n",
       "2                           19                     0.100000        190   \n",
       "3                           17                     0.092896        183   \n",
       "4                           16                     0.090909        176   \n",
       "\n",
       "   % Poverty  \n",
       "0        1.0  \n",
       "1        1.0  \n",
       "2        1.0  \n",
       "3        1.0  \n",
       "4        1.0  \n",
       "\n",
       "[5 rows x 38 columns]"
      ]
     },
     "execution_count": 52,
     "metadata": {},
     "output_type": "execute_result"
    }
   ],
   "source": [
    "AuditedRegister_20122016_School.head()"
   ]
  },
  {
   "cell_type": "code",
   "execution_count": 53,
   "metadata": {
    "collapsed": true
   },
   "outputs": [],
   "source": [
    "#http://intranet.nycboe.net/IT/contacts/SchoolInfo.htm\n",
    "LCGMS = 'javascript:WebForm_DoPostBackWithOptions(new WebForm_PostBackOptions(\"doecontrol_topcentercontainer_schooldatadownload$LCGMSDataDownload1$btnDownload\", \"\", true, \"\", \"\", false, true))'"
   ]
  },
  {
   "cell_type": "code",
   "execution_count": null,
   "metadata": {
    "collapsed": false
   },
   "outputs": [],
   "source": []
  },
  {
   "cell_type": "code",
   "execution_count": null,
   "metadata": {
    "collapsed": true
   },
   "outputs": [],
   "source": []
  }
 ],
 "metadata": {
  "anaconda-cloud": {},
  "kernelspec": {
   "display_name": "Python [conda root]",
   "language": "python",
   "name": "conda-root-py"
  },
  "language_info": {
   "codemirror_mode": {
    "name": "ipython",
    "version": 2
   },
   "file_extension": ".py",
   "mimetype": "text/x-python",
   "name": "python",
   "nbconvert_exporter": "python",
   "pygments_lexer": "ipython2",
   "version": "2.7.12"
  }
 },
 "nbformat": 4,
 "nbformat_minor": 1
}
