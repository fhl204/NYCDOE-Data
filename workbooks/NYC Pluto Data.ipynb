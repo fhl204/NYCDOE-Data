{
 "cells": [
  {
   "cell_type": "markdown",
   "metadata": {},
   "source": [
    "## New York City Pluto Data Scrape\n",
    "\n",
    "1. Creating master Pluto files by year for database\n",
    "    Source: \n",
    "    https://www1.nyc.gov/site/planning/data-maps/open-data/bytes-archive.page?sorts[year]=0\n",
    "    https://www1.nyc.gov/assets/planning/download/zip/data-maps/open-data/nyc_pluto_17v1.zip?r=1\n",
    "    https://www1.nyc.gov/assets/planning/download/zip/data-maps/open-data/nyc_pluto_17v1_1.zip?r=1\n",
    "    https://www1.nyc.gov/assets/planning/download/zip/data-maps/open-data/nyc_pluto_16v1.zip\n",
    "    https://www1.nyc.gov/assets/planning/download/zip/data-maps/open-data/nyc_pluto_16v2.zip\n",
    "\n",
    "2. Upload to Google Big Query\n",
    "\n",
    "3. Geocode 311 data for BBL for each corresponding pluto file date\n",
    "4. Add historical BBL to master complaints table\n",
    "5. Run analysis on which areas have changed if any & when\n",
    "6. See how this affects previous BIDs analysis\n",
    "\n",
    "Notes:\n",
    "- Tax lot is updated monthly and goes back as far as 2013 \n",
    "- Pluto and MapPluto are updated bi-annually (January and June) and goes back as far as 2002"
   ]
  },
  {
   "cell_type": "code",
   "execution_count": 34,
   "metadata": {
    "collapsed": true
   },
   "outputs": [],
   "source": [
    "import requests\n",
    "from openpyxl import load_workbook\n",
    "import pandas as pd \n",
    "import os"
   ]
  },
  {
   "cell_type": "markdown",
   "metadata": {},
   "source": [
    "### Links"
   ]
  },
  {
   "cell_type": "code",
   "execution_count": 8,
   "metadata": {
    "collapsed": true
   },
   "outputs": [],
   "source": [
    "#Annual Enrollment\n",
    "#Source: http://schools.nyc.gov/Accountability/data/default.htm\n",
    "AuditedRegister_20122016 = \"http://schools.nyc.gov/NR/rdonlyres/46093164-D8AA-40DD-A400-8F80CEBC8DD5/0/DemographicSnapshot201112to201516Public_FINAL.xlsx\""
   ]
  },
  {
   "cell_type": "code",
   "execution_count": 14,
   "metadata": {
    "collapsed": false
   },
   "outputs": [],
   "source": [
    "dls = AuditedRegister_20122016\n",
    "resp = requests.get(dls)\n",
    "fileName = \"AuditedRegister_20122016.xlsx\"\n",
    "\n",
    "output = open(fileName, 'wb')\n",
    "output.write(resp.content)\n",
    "output.close()"
   ]
  },
  {
   "cell_type": "code",
   "execution_count": 32,
   "metadata": {
    "collapsed": false
   },
   "outputs": [
    {
     "name": "stdout",
     "output_type": "stream",
     "text": [
      "[u'Citywide', u'Borough', u'District', u'School', u'Full Day Pre-K for All', u'NOTES']\n"
     ]
    }
   ],
   "source": [
    "wb = load_workbook(fileName)\n",
    "print wb.get_sheet_names()"
   ]
  },
  {
   "cell_type": "code",
   "execution_count": 47,
   "metadata": {
    "collapsed": false
   },
   "outputs": [],
   "source": [
    "path = \"//52CCIFS00/Users$/floza/My Documents/OSFEP/Data Scrape/\"\n",
    "x1 = pd.ExcelFile(path + fileName)"
   ]
  },
  {
   "cell_type": "code",
   "execution_count": 48,
   "metadata": {
    "collapsed": false
   },
   "outputs": [],
   "source": [
    "AuditedRegister_20122016_Citywide = x1.parse(\"Citywide\")"
   ]
  },
  {
   "cell_type": "code",
   "execution_count": 51,
   "metadata": {
    "collapsed": false
   },
   "outputs": [],
   "source": [
    "AuditedRegister_20122016_Borough = x1.parse(\"Borough\")\n",
    "AuditedRegister_20122016_District = x1.parse(\"District\")\n",
    "AuditedRegister_20122016_School = x1.parse(\"School\")"
   ]
  },
  {
   "cell_type": "code",
   "execution_count": 52,
   "metadata": {
    "collapsed": false
   },
   "outputs": [
    {
     "data": {
      "text/html": [
       "<div>\n",
       "<table border=\"1\" class=\"dataframe\">\n",
       "  <thead>\n",
       "    <tr style=\"text-align: right;\">\n",
       "      <th></th>\n",
       "      <th>DBN</th>\n",
       "      <th>School Name</th>\n",
       "      <th>Year</th>\n",
       "      <th>Total Enrollment</th>\n",
       "      <th>Grade PK (Half Day &amp; Full Day)</th>\n",
       "      <th>Grade K</th>\n",
       "      <th>Grade 1</th>\n",
       "      <th>Grade 2</th>\n",
       "      <th>Grade 3</th>\n",
       "      <th>Grade 4</th>\n",
       "      <th>...</th>\n",
       "      <th># Other</th>\n",
       "      <th>% Other</th>\n",
       "      <th># White</th>\n",
       "      <th>% White</th>\n",
       "      <th># Students with Disabilities</th>\n",
       "      <th>% Students with Disabilities</th>\n",
       "      <th># English Language Learners</th>\n",
       "      <th>% English Language Learners</th>\n",
       "      <th># Poverty</th>\n",
       "      <th>% Poverty</th>\n",
       "    </tr>\n",
       "  </thead>\n",
       "  <tbody>\n",
       "    <tr>\n",
       "      <th>0</th>\n",
       "      <td>01M015</td>\n",
       "      <td>P.S. 015 Roberto Clemente</td>\n",
       "      <td>2011-12</td>\n",
       "      <td>189</td>\n",
       "      <td>13</td>\n",
       "      <td>31</td>\n",
       "      <td>35</td>\n",
       "      <td>28</td>\n",
       "      <td>25</td>\n",
       "      <td>28</td>\n",
       "      <td>...</td>\n",
       "      <td>1</td>\n",
       "      <td>0.005291</td>\n",
       "      <td>4</td>\n",
       "      <td>0.021164</td>\n",
       "      <td>52</td>\n",
       "      <td>0.275132</td>\n",
       "      <td>22</td>\n",
       "      <td>0.116402</td>\n",
       "      <td>189</td>\n",
       "      <td>1.0</td>\n",
       "    </tr>\n",
       "    <tr>\n",
       "      <th>1</th>\n",
       "      <td>01M015</td>\n",
       "      <td>P.S. 015 Roberto Clemente</td>\n",
       "      <td>2012-13</td>\n",
       "      <td>177</td>\n",
       "      <td>18</td>\n",
       "      <td>38</td>\n",
       "      <td>26</td>\n",
       "      <td>22</td>\n",
       "      <td>26</td>\n",
       "      <td>23</td>\n",
       "      <td>...</td>\n",
       "      <td>3</td>\n",
       "      <td>0.016949</td>\n",
       "      <td>3</td>\n",
       "      <td>0.016949</td>\n",
       "      <td>55</td>\n",
       "      <td>0.310734</td>\n",
       "      <td>21</td>\n",
       "      <td>0.118644</td>\n",
       "      <td>177</td>\n",
       "      <td>1.0</td>\n",
       "    </tr>\n",
       "    <tr>\n",
       "      <th>2</th>\n",
       "      <td>01M015</td>\n",
       "      <td>P.S. 015 Roberto Clemente</td>\n",
       "      <td>2013-14</td>\n",
       "      <td>190</td>\n",
       "      <td>26</td>\n",
       "      <td>39</td>\n",
       "      <td>39</td>\n",
       "      <td>21</td>\n",
       "      <td>16</td>\n",
       "      <td>26</td>\n",
       "      <td>...</td>\n",
       "      <td>2</td>\n",
       "      <td>0.010526</td>\n",
       "      <td>3</td>\n",
       "      <td>0.015789</td>\n",
       "      <td>65</td>\n",
       "      <td>0.342105</td>\n",
       "      <td>19</td>\n",
       "      <td>0.100000</td>\n",
       "      <td>190</td>\n",
       "      <td>1.0</td>\n",
       "    </tr>\n",
       "    <tr>\n",
       "      <th>3</th>\n",
       "      <td>01M015</td>\n",
       "      <td>P.S. 015 Roberto Clemente</td>\n",
       "      <td>2014-15</td>\n",
       "      <td>183</td>\n",
       "      <td>18</td>\n",
       "      <td>27</td>\n",
       "      <td>47</td>\n",
       "      <td>31</td>\n",
       "      <td>19</td>\n",
       "      <td>17</td>\n",
       "      <td>...</td>\n",
       "      <td>1</td>\n",
       "      <td>0.005464</td>\n",
       "      <td>2</td>\n",
       "      <td>0.010929</td>\n",
       "      <td>64</td>\n",
       "      <td>0.349727</td>\n",
       "      <td>17</td>\n",
       "      <td>0.092896</td>\n",
       "      <td>183</td>\n",
       "      <td>1.0</td>\n",
       "    </tr>\n",
       "    <tr>\n",
       "      <th>4</th>\n",
       "      <td>01M015</td>\n",
       "      <td>P.S. 015 Roberto Clemente</td>\n",
       "      <td>2015-16</td>\n",
       "      <td>176</td>\n",
       "      <td>14</td>\n",
       "      <td>32</td>\n",
       "      <td>33</td>\n",
       "      <td>39</td>\n",
       "      <td>23</td>\n",
       "      <td>17</td>\n",
       "      <td>...</td>\n",
       "      <td>3</td>\n",
       "      <td>0.017045</td>\n",
       "      <td>2</td>\n",
       "      <td>0.011364</td>\n",
       "      <td>57</td>\n",
       "      <td>0.323864</td>\n",
       "      <td>16</td>\n",
       "      <td>0.090909</td>\n",
       "      <td>176</td>\n",
       "      <td>1.0</td>\n",
       "    </tr>\n",
       "  </tbody>\n",
       "</table>\n",
       "<p>5 rows × 38 columns</p>\n",
       "</div>"
      ],
      "text/plain": [
       "      DBN                School Name     Year  Total Enrollment  \\\n",
       "0  01M015  P.S. 015 Roberto Clemente  2011-12               189   \n",
       "1  01M015  P.S. 015 Roberto Clemente  2012-13               177   \n",
       "2  01M015  P.S. 015 Roberto Clemente  2013-14               190   \n",
       "3  01M015  P.S. 015 Roberto Clemente  2014-15               183   \n",
       "4  01M015  P.S. 015 Roberto Clemente  2015-16               176   \n",
       "\n",
       "   Grade PK (Half Day & Full Day)  Grade K  Grade 1  Grade 2  Grade 3  \\\n",
       "0                              13       31       35       28       25   \n",
       "1                              18       38       26       22       26   \n",
       "2                              26       39       39       21       16   \n",
       "3                              18       27       47       31       19   \n",
       "4                              14       32       33       39       23   \n",
       "\n",
       "   Grade 4    ...      # Other   % Other  # White   % White  \\\n",
       "0       28    ...            1  0.005291        4  0.021164   \n",
       "1       23    ...            3  0.016949        3  0.016949   \n",
       "2       26    ...            2  0.010526        3  0.015789   \n",
       "3       17    ...            1  0.005464        2  0.010929   \n",
       "4       17    ...            3  0.017045        2  0.011364   \n",
       "\n",
       "   # Students with Disabilities  % Students with Disabilities  \\\n",
       "0                            52                      0.275132   \n",
       "1                            55                      0.310734   \n",
       "2                            65                      0.342105   \n",
       "3                            64                      0.349727   \n",
       "4                            57                      0.323864   \n",
       "\n",
       "   # English Language Learners  % English Language Learners  # Poverty  \\\n",
       "0                           22                     0.116402        189   \n",
       "1                           21                     0.118644        177   \n",
       "2                           19                     0.100000        190   \n",
       "3                           17                     0.092896        183   \n",
       "4                           16                     0.090909        176   \n",
       "\n",
       "   % Poverty  \n",
       "0        1.0  \n",
       "1        1.0  \n",
       "2        1.0  \n",
       "3        1.0  \n",
       "4        1.0  \n",
       "\n",
       "[5 rows x 38 columns]"
      ]
     },
     "execution_count": 52,
     "metadata": {},
     "output_type": "execute_result"
    }
   ],
   "source": [
    "AuditedRegister_20122016_School.head()"
   ]
  },
  {
   "cell_type": "code",
   "execution_count": 53,
   "metadata": {
    "collapsed": true
   },
   "outputs": [],
   "source": [
    "#http://intranet.nycboe.net/IT/contacts/SchoolInfo.htm\n",
    "LCGMS = 'javascript:WebForm_DoPostBackWithOptions(new WebForm_PostBackOptions(\"doecontrol_topcentercontainer_schooldatadownload$LCGMSDataDownload1$btnDownload\", \"\", true, \"\", \"\", false, true))'"
   ]
  },
  {
   "cell_type": "code",
   "execution_count": null,
   "metadata": {
    "collapsed": false
   },
   "outputs": [],
   "source": []
  },
  {
   "cell_type": "code",
   "execution_count": null,
   "metadata": {
    "collapsed": true
   },
   "outputs": [],
   "source": []
  }
 ],
 "metadata": {
  "anaconda-cloud": {},
  "kernelspec": {
   "display_name": "Python [conda root]",
   "language": "python",
   "name": "conda-root-py"
  },
  "language_info": {
   "codemirror_mode": {
    "name": "ipython",
    "version": 2
   },
   "file_extension": ".py",
   "mimetype": "text/x-python",
   "name": "python",
   "nbconvert_exporter": "python",
   "pygments_lexer": "ipython2",
   "version": "2.7.12"
  }
 },
 "nbformat": 4,
 "nbformat_minor": 1
}
